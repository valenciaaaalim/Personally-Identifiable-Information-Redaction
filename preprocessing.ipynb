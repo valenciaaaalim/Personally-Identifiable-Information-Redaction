{
 "cells": [
  {
   "cell_type": "markdown",
   "id": "7cb167a4",
   "metadata": {},
   "source": [
    "# Pre-process original data"
   ]
  },
  {
   "cell_type": "code",
   "execution_count": 3,
   "id": "05a251f0",
   "metadata": {},
   "outputs": [
    {
     "name": "stderr",
     "output_type": "stream",
     "text": [
      "100%|██████████| 2355/2355 [00:00<00:00, 4483.45it/s]\n"
     ]
    },
    {
     "name": "stdout",
     "output_type": "stream",
     "text": [
      "\n",
      "🔎 Sample Entry from Preprocessed Dataset:\n",
      "{\n",
      "  \"text\": \"Tiburce Evans, https://www.instagram.com/tiburce-evans, pin NO bLBeoRIe\\n001-691-518-9820x5621\\n\\nIntroduction - Identifying the Challenge:\\n\\nIn my role as a User Experience Designer at a technology startup in San Francisco, I encountered a complex challenge that required a thoughtful and innovative solution. Our team was tasked with redesigning the user experience of our mobile application to better meet the needs of a diverse user group, spanning various age ranges, cultures, ethnicities, and abilities. This challenge was significant due to the wide array of user needs and preferences to consider, as well as the potential impact on overall customer satisfaction and conversion rates.\\n\\nSelection of the Tool or Approach:\\n\\nTo address this complex challenge, I chose to apply the human-centered design (HCD) approach, a methodology that emphasizes empathy, collaboration, and iteration throughout the design process. I selected this approach due to its relevance to the challenge, as HCD focuses on understanding and meeting the needs of diverse user groups, and its theoretical underpinnings in user-centered research and design. Additionally, HCD has a proven effectiveness in similar situations, as it allows designers to create solutions that are both user-friendly and business-oriented.\\n\\nWhile there were several alternatives considered, such as design thinking, user-centered design, and participatory design, I ultimately discarded them in favor of HCD due to its comprehensive nature and emphasis on inclusivity. Design thinking, for example, focuses predominantly on the ideation and prototyping stages, while user-centered design lacks the collaborative aspect that I believed was crucial for this particular challenge. Participatory design, while inclusive, can be time-consuming and challenging to implement in a fast-paced startup environment.\\n\\nApplication of the Tool or Approach:\\n\\nTo apply the HCD approach, I followed a series of steps and processes to understand, ideate, and iterate on the mobile application's user experience. First, I conducted user research studies to empathize with our diverse user group, using various methods such as interviews, observations, and surveys. This research allowed me to identify user needs, preferences, and pain points, which informed the subsequent ideation phase.\\n\\nDuring the ideation phase, I facilitated design thinking workshops with cross-functional stakeholders, encouraging collaboration and creativity. We generated numerous ideas, selected the most promising ones, and created wireframes and prototypes to visualize and test the potential solutions. Throughout this phase, I ensured that all ideas were evaluated through the lens of inclusivity, striving to create a design that catered to users of all ages, cultures, ethnicities, mobility, literacy skills, and disabilities.\\n\\nAdaptations and customizations were made to the HCD approach to suit the specific context of the challenge. For instance, I incorporated user analytics tools like FullStory and Google Analytics to gain a better understanding of user behavior and preferences within the application. This data-driven approach complemented the empathetic research methods used in the initial stages of the HCD process.\\n\\nAnalysis and Insight:\\n\\nThe application of the HCD approach was effective in addressing the challenge of redesigning the mobile application's user experience for a diverse user group. The user research studies provided valuable insights into user needs and preferences, which guided the ideation and prototyping stages. By fostering collaboration and creativity within the design thinking workshops, we were able to generate innovative solutions that catered to a wide array of user needs.\\n\\nHowever, there were some limitations in the HCD approach that became apparent during the application process. First, the emphasis on empathy and collaboration, while valuable, can sometimes lead to prolonged decision-making and slower progress. Second, the inclusivity criteria, while essential, can be challenging to implement consistently across all stages of the process.\\n\\nNonetheless, the use of the HCD approach significantly influenced the outcome of the challenge by promoting a user-centered, collaborative, and iterative approach to design. The resulting redesign was well-received by users, with an increase in overall customer satisfaction and conversion rates. The user analytics tools provided additional data to support the effectiveness of the redesign, demonstrating increased user engagement and reduced drop-off rates.\\n\\nConclusion - Future Applications:\\n\\nThe key insights gained from applying the HCD approach to redesign the mobile application's user experience can inform future applications of the same or similar tools in addressing other challenges. First, user research studies are crucial in understanding user needs and preferences, and should be integrated into the design process from the outset. Second, fostering collaboration and creativity through design thinking workshops can lead to innovative solutions that cater to a wide array of user needs. Lastly, consistent application of inclusivity criteria throughout the design process is essential to creating solutions that are accessible and user-friendly for diverse user groups.\\n\\nIn future applications of the HCD approach or similar tools, I would propose a few modifications or improvements to enhance its effectiveness. First, implementing a more efficient decision-making process during the empathy and collaboration stages could accelerate progress without compromising user-centeredness. Second, incorporating additional data-driven methods, such as A/B testing and usability testing, alongside empathetic research methods could further inform the ideation and prototyping stages.\\n\\nIn summary, the HCD approach proved to be an effective tool in addressing the challenge of redesigning the mobile application's user experience for a diverse user group. By understanding user needs, fostering collaboration and creativity, and consistently applying inclusivity criteria, our team was able to create a solution that increased overall customer satisfaction and conversion rates. The insights gained from this experience can inform future applications of HCD, as well as other design methodologies, in addressing complex challenges within user experience design.\\n\\nThank you for considering my perspective,\\nTiburce Evans\",\n",
      "  \"entities\": [\n",
      "    {\n",
      "      \"start\": 0,\n",
      "      \"end\": 13,\n",
      "      \"label\": \"name\"\n",
      "    },\n",
      "    {\n",
      "      \"start\": 15,\n",
      "      \"end\": 54,\n",
      "      \"label\": \"url\"\n",
      "    },\n",
      "    {\n",
      "      \"start\": 63,\n",
      "      \"end\": 71,\n",
      "      \"label\": \"id number\"\n",
      "    },\n",
      "    {\n",
      "      \"start\": 72,\n",
      "      \"end\": 93,\n",
      "      \"label\": \"phone number\"\n",
      "    },\n",
      "    {\n",
      "      \"start\": 6432,\n",
      "      \"end\": 6445,\n",
      "      \"label\": \"name\"\n",
      "    }\n",
      "  ]\n",
      "}\n"
     ]
    }
   ],
   "source": [
    "import json\n",
    "import os\n",
    "from tqdm import tqdm\n",
    "\n",
    "# Label map from PII-DD to GLiNER-compatible\n",
    "label_map = {\n",
    "    \"NAME_STUDENT\": \"name\",\n",
    "    \"EMAIL\": \"email\",\n",
    "    \"USERNAME\": \"username\",\n",
    "    \"ID_NUM\": \"id number\",\n",
    "    \"PHONE_NUM\": \"phone number\",\n",
    "    \"URL_PERSONAL\": \"url\",\n",
    "    \"STREET_ADDRESS\": \"street address\"\n",
    "}\n",
    "\n",
    "# Load JSON data\n",
    "input_path = os.path.join(\"data/\", \"mixtral-8x7b-v1.json\")  # Update if needed\n",
    "output_path = os.path.join(\"data/\", \"preprocessed_pii_dd.json\")\n",
    "\n",
    "with open(input_path, \"r\") as f:\n",
    "    data = json.load(f)\n",
    "\n",
    "# Helper to reconstruct full text from tokens and spacing\n",
    "def reconstruct_text(tokens, whitespaces):\n",
    "    return \"\".join([t + (\" \" if w else \"\") for t, w in zip(tokens, whitespaces)])\n",
    "\n",
    "# Extract labeled spans in GLiNER format\n",
    "def extract_labeled_spans(tokens, whitespaces, labels):\n",
    "    spans = []\n",
    "    current = None\n",
    "    start_char = 0\n",
    "\n",
    "    for token, label, has_space in zip(tokens, labels, whitespaces):\n",
    "        end_char = start_char + len(token)\n",
    "\n",
    "        if label.startswith(\"B-\"):\n",
    "            if current:\n",
    "                spans.append(current)\n",
    "            mapped = label_map.get(label[2:])\n",
    "            if mapped:\n",
    "                current = {\"start\": start_char, \"end\": end_char, \"label\": mapped}\n",
    "            else:\n",
    "                current = None\n",
    "\n",
    "        elif label.startswith(\"I-\") and current:\n",
    "            current[\"end\"] = end_char\n",
    "\n",
    "        elif current:\n",
    "            spans.append(current)\n",
    "            current = None\n",
    "\n",
    "        start_char = end_char + (1 if has_space else 0)\n",
    "\n",
    "    if current:\n",
    "        spans.append(current)\n",
    "\n",
    "    return spans\n",
    "\n",
    "# Process and convert\n",
    "converted_data = []\n",
    "for entry in tqdm(data):\n",
    "    text = reconstruct_text(entry[\"tokens\"], entry[\"trailing_whitespace\"])\n",
    "    entities = extract_labeled_spans(entry[\"tokens\"], entry[\"trailing_whitespace\"], entry[\"labels\"])\n",
    "    converted_data.append({\"text\": text, \"entities\": entities})\n",
    "\n",
    "# Save to JSON\n",
    "with open(output_path, \"w\") as f:\n",
    "    json.dump(converted_data, f, indent=2)\n",
    "\n",
    "# Print example\n",
    "print(\"\\n🔎 Sample Entry from Preprocessed Dataset:\")\n",
    "print(json.dumps(converted_data[0], indent=2))\n"
   ]
  },
  {
   "cell_type": "markdown",
   "id": "f5885f12",
   "metadata": {},
   "source": [
    "# Augmented data creation"
   ]
  },
  {
   "cell_type": "code",
   "execution_count": null,
   "id": "5b00c9ae",
   "metadata": {},
   "outputs": [],
   "source": []
  },
  {
   "cell_type": "markdown",
   "id": "802aace7",
   "metadata": {},
   "source": [
    "# Combination of data"
   ]
  },
  {
   "cell_type": "code",
   "execution_count": null,
   "id": "3049aa8d",
   "metadata": {},
   "outputs": [],
   "source": [
    "with open(\"data/preprocessed_pii_dd.json\") as f:\n",
    "    real_data = json.load(f)\n",
    "\n",
    "with open(\"data/augmented_name_url_id.json\") as f:\n",
    "    augmented_data = json.load(f)\n",
    "\n",
    "combined = real_data + augmented_data\n",
    "\n",
    "with open(\"data/gilner_data_set.json\", \"w\") as f:\n",
    "    json.dump(combined, f, indent=2)"
   ]
  },
  {
   "cell_type": "markdown",
   "id": "8844c0f2",
   "metadata": {},
   "source": [
    "# Split data"
   ]
  },
  {
   "cell_type": "code",
   "execution_count": null,
   "id": "1261b85a",
   "metadata": {},
   "outputs": [],
   "source": [
    "import json\n",
    "from sklearn.model_selection import train_test_split\n",
    "\n",
    "preprocessed_path = os.path.join(\"data/\", \"gilner_data_set.json\")\n",
    "# # Split: 80% train, 20% test\n",
    "# with open(preprocessed_path, \"r\") as f:\n",
    "#     data = json.load(f)\n",
    "\n",
    "train_data, test_data = train_test_split(preprocessed_path, test_size=0.2, random_state=42)\n",
    "\n",
    "# Optionally save the splits\n",
    "with open(\"data/train_split.json\", \"w\") as f:\n",
    "    json.dump(train_data, f, indent=2)\n",
    "\n",
    "with open(\"data/test_split.json\", \"w\") as f:\n",
    "    json.dump(test_data, f, indent=2)\n",
    "\n",
    "print(f\"✅ Split complete: {len(train_data)} train / {len(test_data)} test entries\")\n"
   ]
  }
 ],
 "metadata": {
  "kernelspec": {
   "display_name": "ner",
   "language": "python",
   "name": "python3"
  },
  "language_info": {
   "codemirror_mode": {
    "name": "ipython",
    "version": 3
   },
   "file_extension": ".py",
   "mimetype": "text/x-python",
   "name": "python",
   "nbconvert_exporter": "python",
   "pygments_lexer": "ipython3",
   "version": "3.10.19"
  }
 },
 "nbformat": 4,
 "nbformat_minor": 5
}
